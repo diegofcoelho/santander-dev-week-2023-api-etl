{
 "cells": [
  {
   "cell_type": "code",
   "execution_count": null,
   "metadata": {},
   "outputs": [],
   "source": [
    "import pandas as pd"
   ]
  },
  {
   "cell_type": "code",
   "execution_count": null,
   "metadata": {},
   "outputs": [],
   "source": [
    "# Read input CSV file \n",
    "df = pd.read_csv('input_data.csv')\n",
    "\n",
    "# Print original DataFrame\n",
    "print(\"Original DataFrame:\")\n",
    "print(df)"
   ]
  },
  {
   "cell_type": "code",
   "execution_count": null,
   "metadata": {},
   "outputs": [],
   "source": [
    "# Add a new column 'bonus' which is 10% of salary\n",
    "df['bonus'] = df['salary'] * 0.1\n",
    "\n",
    "# Add a new column 'total_compensation' which is salary + bonus\n",
    "df['total_compensation'] = df['salary'] + df['bonus']\n",
    "\n",
    "# Calculate the mean salary \n",
    "mean_salary = df['salary'].mean()\n",
    "\n",
    "# Add a new column 'above_mean_salary' with boolean values \n",
    "# indicating if salary is above mean\n",
    "df['above_mean_salary'] = df['salary'] > mean_salary"
   ]
  },
  {
   "cell_type": "code",
   "execution_count": null,
   "metadata": {},
   "outputs": [],
   "source": [
    "# Print updated DataFrame\n",
    "print(\"\\nUpdated DataFrame:\")\n",
    "print(df)"
   ]
  },
  {
   "cell_type": "code",
   "execution_count": null,
   "metadata": {},
   "outputs": [],
   "source": [
    "# Write the updated DataFrame to a new CSV file\n",
    "df.to_csv('processed_data.csv', index=False)\n",
    "print(\"\\nProcessed data exported to 'processed_data.csv'\")"
   ]
  }
 ],
 "metadata": {
  "kernelspec": {
   "display_name": "Python 3",
   "language": "python",
   "name": "python3"
  },
  "language_info": {
   "codemirror_mode": {
    "name": "ipython",
    "version": 3
   },
   "file_extension": ".py",
   "mimetype": "text/x-python",
   "name": "python",
   "nbconvert_exporter": "python",
   "pygments_lexer": "ipython3",
   "version": "3.8.5"
  }
 },
 "nbformat": 4,
 "nbformat_minor": 4
}
